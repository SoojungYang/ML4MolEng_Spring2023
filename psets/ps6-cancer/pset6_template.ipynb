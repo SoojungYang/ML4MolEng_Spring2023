{
 "cells": [
  {
   "cell_type": "markdown",
   "metadata": {
    "id": "pwQH_AtyqN9o"
   },
   "source": [
    "#  <center> Problem Set 6 <center>\n",
    "<center> Spring 2022 <center>\n",
    "<center> 3.C01, 10.C01, 20.C01 <center>\n",
    "<center> Due: 5 PM ET on Monday, May 9, 2022 <center>"
   ]
  },
  {
   "cell_type": "markdown",
   "metadata": {
    "id": "n96prwjWqemb"
   },
   "source": [
    "Register for the competition and download the data: \n",
    "\n",
    "https://www.kaggle.com/t/58b8ee1858b6446e81b7d3ebfbaa6922"
   ]
  },
  {
   "cell_type": "code",
   "execution_count": 1,
   "metadata": {
    "colab": {
     "base_uri": "https://localhost:8080/"
    },
    "id": "MegHJLXVqN9z",
    "outputId": "609fe7a0-536b-4764-d429-ba58a84f49d8"
   },
   "outputs": [
    {
     "name": "stdout",
     "output_type": "stream",
     "text": [
      "--2022-04-03 23:02:38--  https://raw.githubusercontent.com/wwang2/ML4MolEng/master/psets/ps6/data/bio/ImmuneSignatures160.csv\n",
      "Resolving raw.githubusercontent.com (raw.githubusercontent.com)... 185.199.108.133, 185.199.109.133, 185.199.110.133, ...\n",
      "Connecting to raw.githubusercontent.com (raw.githubusercontent.com)|185.199.108.133|:443... connected.\n",
      "HTTP request sent, awaiting response... 200 OK\n",
      "Length: 19203382 (18M) [text/plain]\n",
      "Saving to: ‘ImmuneSignatures160.csv’\n",
      "\n",
      "ImmuneSignatures160 100%[===================>]  18.31M  --.-KB/s    in 0.1s    \n",
      "\n",
      "2022-04-03 23:02:39 (134 MB/s) - ‘ImmuneSignatures160.csv’ saved [19203382/19203382]\n",
      "\n",
      "--2022-04-03 23:02:39--  https://raw.githubusercontent.com/wwang2/ML4MolEng/master/psets/ps6/data/bio/covariates_train.csv\n",
      "Resolving raw.githubusercontent.com (raw.githubusercontent.com)... 185.199.108.133, 185.199.109.133, 185.199.110.133, ...\n",
      "Connecting to raw.githubusercontent.com (raw.githubusercontent.com)|185.199.108.133|:443... connected.\n",
      "HTTP request sent, awaiting response... 200 OK\n",
      "Length: 7384690 (7.0M) [text/plain]\n",
      "Saving to: ‘covariates_train.csv’\n",
      "\n",
      "covariates_train.cs 100%[===================>]   7.04M  --.-KB/s    in 0.1s    \n",
      "\n",
      "2022-04-03 23:02:39 (60.8 MB/s) - ‘covariates_train.csv’ saved [7384690/7384690]\n",
      "\n",
      "--2022-04-03 23:02:39--  https://raw.githubusercontent.com/wwang2/ML4MolEng/master/psets/ps6/data/bio/covariates_test.csv\n",
      "Resolving raw.githubusercontent.com (raw.githubusercontent.com)... 185.199.108.133, 185.199.109.133, 185.199.110.133, ...\n",
      "Connecting to raw.githubusercontent.com (raw.githubusercontent.com)|185.199.108.133|:443... connected.\n",
      "HTTP request sent, awaiting response... 200 OK\n",
      "Length: 1849717 (1.8M) [text/plain]\n",
      "Saving to: ‘covariates_test.csv’\n",
      "\n",
      "covariates_test.csv 100%[===================>]   1.76M  --.-KB/s    in 0.06s   \n",
      "\n",
      "2022-04-03 23:02:39 (30.1 MB/s) - ‘covariates_test.csv’ saved [1849717/1849717]\n",
      "\n",
      "--2022-04-03 23:02:40--  https://raw.githubusercontent.com/wwang2/ML4MolEng/master/psets/ps6/data/bio/survival_train.csv\n",
      "Resolving raw.githubusercontent.com (raw.githubusercontent.com)... 185.199.108.133, 185.199.109.133, 185.199.110.133, ...\n",
      "Connecting to raw.githubusercontent.com (raw.githubusercontent.com)|185.199.108.133|:443... connected.\n",
      "HTTP request sent, awaiting response... 200 OK\n",
      "Length: 56204 (55K) [text/plain]\n",
      "Saving to: ‘survival_train.csv’\n",
      "\n",
      "survival_train.csv  100%[===================>]  54.89K  --.-KB/s    in 0.01s   \n",
      "\n",
      "2022-04-03 23:02:40 (4.52 MB/s) - ‘survival_train.csv’ saved [56204/56204]\n",
      "\n"
     ]
    }
   ],
   "source": [
    "!wget https://raw.githubusercontent.com/vikram-sundar/ML4MolEng_Spring2022/master/psets/ps6-cancer/data/ImmuneSignatures160.csv\n",
    "!wget https://raw.githubusercontent.com/vikram-sundar/ML4MolEng_Spring2022/master/psets/ps6-cancer/data/covariates_train.csv\n",
    "!wget https://raw.githubusercontent.com/vikram-sundar/ML4MolEng_Spring2022/master/psets/ps6-cancer/data/covariates_test.csv\n",
    "!wget https://raw.githubusercontent.com/vikram-sundar/ML4MolEng_Spring2022/master/psets/ps6-cancer/data/survival_train.csv"
   ]
  },
  {
   "cell_type": "code",
   "execution_count": null,
   "metadata": {
    "id": "w22h2cbxsx9G"
   },
   "outputs": [],
   "source": [
    "import numpy as np \n",
    "import pandas as pd \n",
    "\n",
    "import seaborn as sns\n",
    "import matplotlib.pyplot as plt\n",
    "\n",
    "from sklearn.cluster import KMeans\n",
    "from sklearn.metrics import silhouette_score\n",
    "\n",
    "from sklearn.model_selection import train_test_split\n",
    "from sklearn.linear_model import LogisticRegression\n",
    "from sklearn.preprocessing import StandardScaler \n",
    "from sklearn.ensemble import RandomForestClassifier\n",
    "\n",
    "from sklearn.model_selection import KFold \n",
    "from sklearn.model_selection import StratifiedKFold\n",
    "\n",
    "from sklearn.metrics import roc_auc_score"
   ]
  },
  {
   "cell_type": "markdown",
   "metadata": {
    "id": "q3D_9TmzqN96"
   },
   "source": [
    "## Part 1: Characterizing Intra-Tumoral Immune States"
   ]
  },
  {
   "cell_type": "markdown",
   "metadata": {
    "id": "_ls3qftEqN99"
   },
   "source": [
    "### Part 1.1: (5 points) Visualization of Immune Modules"
   ]
  },
  {
   "cell_type": "code",
   "execution_count": null,
   "metadata": {
    "id": "ECaio7zzqN-B"
   },
   "outputs": [],
   "source": [
    "# import file - immune signatures\n",
    "genesig = pd.read_csv(\"ImmuneSignatures160.csv\", index_col=\"Unnamed: 0\")\n",
    "\n",
    "# diverging colormap for visualizing standardized scores\n",
    "cmap = sns.diverging_palette(220, 20, as_cmap=True)"
   ]
  },
  {
   "cell_type": "code",
   "execution_count": null,
   "metadata": {
    "id": "bxdh7kb2qN-D"
   },
   "outputs": [],
   "source": [
    "# Immune Signature Cluster Modeling\n",
    "corr = genesig.corr(method = 'pearson')\n",
    "cmap = sns.diverging_palette(220, 20, as_cmap=True)\n",
    "sns.clustermap(corr, cmap=cmap)"
   ]
  },
  {
   "cell_type": "markdown",
   "metadata": {
    "id": "emtkLk6FqN-G"
   },
   "source": [
    "How many clusters can you observe? There is no single right answer; just provide a visual guess."
   ]
  },
  {
   "cell_type": "code",
   "execution_count": null,
   "metadata": {
    "id": "cDN6L-PyqN-I"
   },
   "outputs": [],
   "source": [
    "\n",
    "\n",
    "\n",
    "\n"
   ]
  },
  {
   "cell_type": "markdown",
   "metadata": {
    "id": "wPKXSV0DqN-L"
   },
   "source": [
    "### Part 1.2: (10 points) Clustering Analysis to Identify Modules"
   ]
  },
  {
   "cell_type": "markdown",
   "metadata": {
    "id": "HE2Cd7M3sdcy"
   },
   "source": [
    "Compute the Silhouette Score for k ranging from 2 to 10, and pick the best value of k."
   ]
  },
  {
   "cell_type": "code",
   "execution_count": null,
   "metadata": {
    "id": "YvG1TaoSsisj"
   },
   "outputs": [],
   "source": []
  },
  {
   "cell_type": "markdown",
   "metadata": {
    "id": "J9QyvyJEqN-P"
   },
   "source": [
    "## Part 2: Baseline Prediction of Cancer Progression"
   ]
  },
  {
   "cell_type": "markdown",
   "metadata": {
    "id": "J15M5rWbqN-R"
   },
   "source": [
    "### Part 2.1: (10 points) Train a Logistic Regressor"
   ]
  },
  {
   "cell_type": "markdown",
   "metadata": {
    "id": "Iq4RC4tos0Nw"
   },
   "source": [
    "Report a 5-fold cross-validation AUC."
   ]
  },
  {
   "cell_type": "code",
   "execution_count": null,
   "metadata": {
    "id": "hPYNV3nxqN-S"
   },
   "outputs": [],
   "source": []
  },
  {
   "cell_type": "markdown",
   "metadata": {
    "id": "MyjeOeqdqN-T"
   },
   "source": [
    "### Part 2.2: (10 points) Train a Random Forest Classifier"
   ]
  },
  {
   "cell_type": "markdown",
   "metadata": {
    "id": "YgYsc78hs2vm"
   },
   "source": [
    "Report a 5-fold cross-validation AUC."
   ]
  },
  {
   "cell_type": "code",
   "execution_count": null,
   "metadata": {
    "id": "LwphFMI2qN-U"
   },
   "outputs": [],
   "source": []
  },
  {
   "cell_type": "markdown",
   "metadata": {
    "id": "UZekNmlnqN-U"
   },
   "source": [
    "## Part 3: (70 points) Machine Learning Competition and Report"
   ]
  },
  {
   "cell_type": "markdown",
   "metadata": {
    "id": "XoatUe2bu-gK"
   },
   "source": [
    "You can start a new notebook here to put all your models."
   ]
  },
  {
   "cell_type": "code",
   "execution_count": null,
   "metadata": {
    "id": "COzf7vQSqN-V"
   },
   "outputs": [],
   "source": [
    "# train features\n",
    "X_train = pd.read_csv(\"covariates_train.csv\", index_col='Unnamed: 0')\n",
    "# train labels\n",
    "y_train = pd.read_csv(\"survival_train.csv\", index_col='bcr_patient_barcode')\n",
    "# test features \n",
    "X_test = pd.read_csv(\"covariates_test.csv\", index_col='Unnamed: 0')"
   ]
  },
  {
   "cell_type": "code",
   "execution_count": null,
   "metadata": {
    "id": "RZnwKvixqN-V"
   },
   "outputs": [],
   "source": [
    "def save_submission(barcode, predict_proba, filename):\n",
    "    '''\n",
    "    Utility function to dump submission csv files.\n",
    "    \n",
    "    barcode (list): list of patient barcode\n",
    "    predict_proba (numpy.array): 1-D numpy array that contrains probabilities for 0 and 1\n",
    "    filename (str): where you want to save your submission\n",
    "    '''\n",
    "    assert len(barcode) == len(predict_proba)\n",
    "    assert len(np.shape(predict_proba)) == 2\n",
    "    \n",
    "    submission = pd.DataFrame( {'bcr_patient_barcode': barcode, 'Predicted': predict_proba[:, 1]})\n",
    "    submission.to_csv(filename, index=None)"
   ]
  },
  {
   "cell_type": "markdown",
   "metadata": {
    "id": "75zJWYWLvFyV"
   },
   "source": [
    "You should submit probabilities for each sample instead of just 0s and 1s."
   ]
  },
  {
   "cell_type": "code",
   "execution_count": null,
   "metadata": {
    "id": "T3VgU4WdqN-W"
   },
   "outputs": [],
   "source": [
    "# example usage: \n",
    "save_submission(X_test.index.tolist(), np.ones((len(X_test), 2)), './junk.csv')\n"
   ]
  },
  {
   "cell_type": "code",
   "execution_count": null,
   "metadata": {
    "id": "lmYrGyUWqN-X"
   },
   "outputs": [],
   "source": []
  },
  {
   "cell_type": "code",
   "execution_count": null,
   "metadata": {
    "id": "SMaIcMtYqN-X"
   },
   "outputs": [],
   "source": []
  }
 ],
 "metadata": {
  "accelerator": "GPU",
  "colab": {
   "name": "pset6_template.ipynb",
   "provenance": [],
   "toc_visible": true
  },
  "kernelspec": {
   "display_name": "Python 3 (ipykernel)",
   "language": "python",
   "name": "python3"
  },
  "language_info": {
   "codemirror_mode": {
    "name": "ipython",
    "version": 3
   },
   "file_extension": ".py",
   "mimetype": "text/x-python",
   "name": "python",
   "nbconvert_exporter": "python",
   "pygments_lexer": "ipython3",
   "version": "3.9.7"
  }
 },
 "nbformat": 4,
 "nbformat_minor": 1
}
