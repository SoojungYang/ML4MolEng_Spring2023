{
  "cells": [
    {
      "cell_type": "markdown",
      "metadata": {
        "id": "HlYHRT4msXHh"
      },
      "source": [
        "#  <center> Counterfactual analysis tutorial2 <center>\n",
        "<center> Spring 2023 <center>\n",
        "<center> 3.C01/3.C51, 10.C01/10.C51, 20.C01/20.C51 <center>\n",
        "<center> No deadline, not graded <center>"
      ]
    },
    {
      "attachments": {},
      "cell_type": "markdown",
      "metadata": {
        "id": "uF2k0EYKsgn4"
      },
      "source": [
        "## 1. Predicting drug activity with Graph Convolutional Nets"
      ]
    },
    {
      "cell_type": "code",
      "execution_count": 2,
      "metadata": {
        "colab": {
          "base_uri": "https://localhost:8080/"
        },
        "id": "ZnQUXBhvwtJO",
        "outputId": "838e5fe7-d066-4fac-ed0f-e36e6cc48b7b"
      },
      "outputs": [
        {
          "name": "stdout",
          "output_type": "stream",
          "text": [
            "Requirement already satisfied: rdkit in /Users/crystal/anaconda3/envs/cox/lib/python3.9/site-packages (2022.9.1)\n",
            "Requirement already satisfied: Pillow in /Users/crystal/anaconda3/envs/cox/lib/python3.9/site-packages (from rdkit) (9.1.1)\n",
            "Requirement already satisfied: numpy in /Users/crystal/anaconda3/envs/cox/lib/python3.9/site-packages (from rdkit) (1.21.5)\n"
          ]
        }
      ],
      "source": [
        "!pip install rdkit"
      ]
    },
    {
      "cell_type": "code",
      "execution_count": 1,
      "metadata": {
        "id": "eK9aNXlqtW7l"
      },
      "outputs": [
        {
          "name": "stderr",
          "output_type": "stream",
          "text": [
            "/home/soojungy/miniconda3/envs/torchmd/lib/python3.8/site-packages/scipy/__init__.py:146: UserWarning: A NumPy version >=1.16.5 and <1.23.0 is required for this version of SciPy (detected version 1.23.5\n",
            "  warnings.warn(f\"A NumPy version >={np_minversion} and <{np_maxversion}\"\n"
          ]
        }
      ],
      "source": [
        "import numpy as np\n",
        "from sklearn.utils import shuffle\n",
        "from tqdm import tqdm\n",
        "import pandas as pd\n",
        "import matplotlib.pyplot as plt\n",
        "\n",
        "import torch\n",
        "\n",
        "from rdkit import Chem, DataStructs\n",
        "from rdkit.Chem import Descriptors,Crippen\n",
        "from rdkit.Chem import Draw\n",
        "from rdkit.Chem.Draw import IPythonConsole\n",
        "\n",
        "from rdkit import RDLogger   \n",
        "RDLogger.DisableLog('rdApp.*') # turn off RDKit warning message "
      ]
    },
    {
      "cell_type": "code",
      "execution_count": 2,
      "metadata": {
        "colab": {
          "base_uri": "https://localhost:8080/"
        },
        "id": "ISXPOcxFsWcG",
        "outputId": "1b8f529f-f4c4-4224-bb58-1b1234c57227"
      },
      "outputs": [
        {
          "name": "stdout",
          "output_type": "stream",
          "text": [
            "--2023-05-08 13:33:09--  https://raw.githubusercontent.com/SoojungYang/ML4MolEng_Spring2023/main/BACE_clean.csv\n",
            "Resolving raw.githubusercontent.com (raw.githubusercontent.com)... 185.199.108.133, 185.199.110.133, 185.199.109.133, ...\n",
            "Connecting to raw.githubusercontent.com (raw.githubusercontent.com)|185.199.108.133|:443... connected.\n",
            "HTTP request sent, awaiting response... 200 OK\n",
            "Length: 98109 (96K) [text/plain]\n",
            "Saving to: ‘BACE_clean.csv’\n",
            "\n",
            "BACE_clean.csv      100%[===================>]  95.81K  --.-KB/s    in 0.008s  \n",
            "\n",
            "2023-05-08 13:33:10 (12.1 MB/s) - ‘BACE_clean.csv’ saved [98109/98109]\n",
            "\n"
          ]
        }
      ],
      "source": [
        "# Downloading BACE dataset\n",
        "! wget https://raw.githubusercontent.com/SoojungYang/ML4MolEng_Spring2023/main/BACE_clean.csv"
      ]
    },
    {
      "cell_type": "markdown",
      "metadata": {
        "id": "hnPc0ZBJwpex"
      },
      "source": [
        "A smiles to graph conversion function. "
      ]
    },
    {
      "cell_type": "code",
      "execution_count": 3,
      "metadata": {
        "id": "NquIU4Uuwoq8"
      },
      "outputs": [],
      "source": [
        "def smiles2graph(smiles):\n",
        "    '''\n",
        "    Transform smiles into a list of atomic numbers and an edge array\n",
        "    \n",
        "    Args: \n",
        "        smiles (str): SMILES strings\n",
        "    \n",
        "    Returns: \n",
        "        z(np.array), A (np.array): list of atomic numbers, edge array\n",
        "    '''\n",
        "    \n",
        "    mol = Chem.MolFromSmiles( smiles ) # no hydrogen \n",
        "    z = np.array( [atom.GetAtomicNum() for atom in mol.GetAtoms()])\n",
        "    A = np.stack(Chem.GetAdjacencyMatrix(mol)).nonzero()\n",
        "    \n",
        "    return z, A"
      ]
    },
    {
      "cell_type": "markdown",
      "metadata": {
        "id": "i8GCKzMPwW98"
      },
      "source": [
        "Read the dataframe, shuffle its rows, and store its properties as lists. "
      ]
    },
    {
      "cell_type": "code",
      "execution_count": 4,
      "metadata": {
        "colab": {
          "base_uri": "https://localhost:8080/"
        },
        "id": "KRbNHoE_sfHi",
        "outputId": "70762b60-1768-4f03-8136-8b057867fc08"
      },
      "outputs": [
        {
          "name": "stderr",
          "output_type": "stream",
          "text": [
            "/tmp/ipykernel_1182567/2121260417.py:16: UserWarning: Creating a tensor from a list of numpy.ndarrays is extremely slow. Please consider converting the list to a single numpy.ndarray with numpy.array() before converting to a tensor. (Triggered internally at  /opt/conda/conda-bld/pytorch_1646755903507/work/torch/csrc/utils/tensor_new.cpp:210.)\n",
            "  Edge_list.append(torch.LongTensor(a))\n"
          ]
        }
      ],
      "source": [
        "df = pd.read_csv(\"BACE_clean.csv\")\n",
        "df = shuffle(df).reset_index()\n",
        "\n",
        "AtomicNum_list = []\n",
        "Edge_list = []\n",
        "y_list = []\n",
        "Natom_list = []\n",
        "\n",
        "for i, row in df.iterrows():\n",
        "        smiles = row.smiles\n",
        "        z, a = smiles2graph(smiles)\n",
        "\n",
        "        mol = Chem.MolFromSmiles( smiles ) \n",
        "        AtomicNum = torch.LongTensor(z)\n",
        "        AtomicNum_list.append(AtomicNum)\n",
        "        Edge_list.append(torch.LongTensor(a))\n",
        "        y_list.append(torch.FloatTensor([row.label]))\n",
        "        \n",
        "        Natom_list.append(len(z))"
      ]
    },
    {
      "cell_type": "code",
      "execution_count": 5,
      "metadata": {
        "colab": {
          "base_uri": "https://localhost:8080/"
        },
        "id": "FnBvxTvsseao",
        "outputId": "1532186d-6fcf-4b82-c0f0-fa5c18ec74c4"
      },
      "outputs": [
        {
          "name": "stdout",
          "output_type": "stream",
          "text": [
            "number of positive samples:  668\n",
            "number of negative samples:  814\n"
          ]
        }
      ],
      "source": [
        "# print the number of positive samples and the negative samples\n",
        "print(\"number of positive samples: \", len(df.loc[df.label==1]))\n",
        "print(\"number of negative samples: \", len(df.loc[df.label==0]))"
      ]
    },
    {
      "cell_type": "markdown",
      "metadata": {
        "id": "_m-JtdplwQge"
      },
      "source": [
        "A code for GNN classification model"
      ]
    },
    {
      "cell_type": "code",
      "execution_count": 16,
      "metadata": {
        "id": "clSL8JTKvw0g"
      },
      "outputs": [],
      "source": [
        "class GraphDataset(torch.utils.data.Dataset):\n",
        "    def __init__(self,\n",
        "                 AtomicNum_list, \n",
        "                 Edge_list, \n",
        "                 Natom_list, \n",
        "                 y_list):\n",
        "        \n",
        "        '''\n",
        "        GraphDataset object\n",
        "        \n",
        "        Args: \n",
        "            z_list (list of torch.LongTensor)\n",
        "            a_list (list of torch.LongTensor)\n",
        "            N_list (list of int)\n",
        "            y_list (list of torch.FloatTensor)\n",
        "\n",
        "        '''\n",
        "        self.AtomicNum_list = AtomicNum_list # atomic number\n",
        "        self.Edge_list = Edge_list # edge list \n",
        "        self.Natom_list = Natom_list # Number of atoms \n",
        "        self.y_list = y_list # properties to predict \n",
        "\n",
        "    def __len__(self):\n",
        "        return len(self.Natom_list)\n",
        "\n",
        "    def __getitem__(self, idx):\n",
        "        \n",
        "        AtomicNum = torch.LongTensor(self.AtomicNum_list[idx])\n",
        "        Edge = torch.LongTensor(self.Edge_list[idx])\n",
        "        Natom = self.Natom_list[idx]\n",
        "        y = torch.Tensor(self.y_list[idx])\n",
        "        \n",
        "        return AtomicNum, Edge, Natom, y"
      ]
    },
    {
      "cell_type": "code",
      "execution_count": 17,
      "metadata": {
        "id": "kWXcRinMyoPr"
      },
      "outputs": [],
      "source": [
        "from sklearn.model_selection import train_test_split\n",
        "\n",
        "AtomicNum_train, AtomicNum_test, Edge_train, Edge_test, Natom_train, Natom_test, y_train, y_test = train_test_split(AtomicNum_list, \n",
        "                                                                                      Edge_list, \n",
        "                                                                                      Natom_list, \n",
        "                                                                                      y_list, test_size=0.2)\n",
        "\n",
        "AtomicNum_train, AtomicNum_val, Edge_train, Edge_val, Natom_train, Natom_val, y_train, y_val = train_test_split(AtomicNum_train, \n",
        "                                                                                      Edge_train, \n",
        "                                                                                      Natom_train, \n",
        "                                                                                      y_train, test_size=0.1/0.8)\n",
        "\n",
        "train_dataset = GraphDataset(AtomicNum_train, \n",
        "                            Edge_train, \n",
        "                            Natom_train,\n",
        "                            y_train)\n",
        "val_dataset = GraphDataset(AtomicNum_val,\n",
        "                          Edge_val, \n",
        "                          Natom_val, \n",
        "                          y_val)\n",
        "test_dataset =  GraphDataset(AtomicNum_test, \n",
        "                            Edge_test, \n",
        "                            Natom_test, \n",
        "                            y_test)"
      ]
    },
    {
      "cell_type": "code",
      "execution_count": 18,
      "metadata": {
        "id": "uW4mAcfpx_I_"
      },
      "outputs": [],
      "source": [
        "# collage_graphs() function is used to batch multiple graphs into one batched graph\n",
        "# the function is used in the DataLoader to batch multiple graphs into one batched graph\n",
        "\n",
        "def collate_graphs(batch):\n",
        "    '''Batch multiple graphs into one batched graph\n",
        "    \n",
        "    Args:\n",
        "    \n",
        "        batch (tuple): tuples of AtomicNum, Edge, Natom and y obtained from GraphDataset.__getitem__() \n",
        "        \n",
        "    Return \n",
        "        (tuple): Batched AtomicNum, Edge, Natom, y\n",
        "    \n",
        "    '''\n",
        "    \n",
        "    AtomicNum_batch = []\n",
        "    Edge_batch = []\n",
        "    Natom_batch = []\n",
        "    y_batch = []\n",
        "\n",
        "    cumulative_atoms = np.cumsum([0] + [b[2] for b in batch])[:-1]\n",
        "    \n",
        "    for i in range(len(batch)):\n",
        "        z, a, N, y = batch[i]\n",
        "        index_shift = cumulative_atoms[i]\n",
        "        a = a + index_shift\n",
        "        AtomicNum_batch.append(z) \n",
        "        Edge_batch.append(a)\n",
        "        Natom_batch.append(N)\n",
        "        y_batch.append(y)\n",
        "        \n",
        "    AtomicNum_batch = torch.cat(AtomicNum_batch)\n",
        "    Edge_batch = torch.cat(Edge_batch, dim=1)\n",
        "    Natom_batch = Natom_batch\n",
        "    y_batch = torch.cat(y_batch)\n",
        "    \n",
        "    return AtomicNum_batch, Edge_batch, Natom_batch, y_batch "
      ]
    },
    {
      "cell_type": "code",
      "execution_count": 19,
      "metadata": {
        "id": "jv9emkA_ykzc"
      },
      "outputs": [],
      "source": [
        "from torch.utils.data import DataLoader\n",
        "train_loader = DataLoader(train_dataset,\n",
        "                          batch_size=64, \n",
        "                          collate_fn=collate_graphs,shuffle=True)\n",
        "\n",
        "val_loader = DataLoader(val_dataset,\n",
        "                          batch_size=64, \n",
        "                          collate_fn=collate_graphs,shuffle=True)\n",
        "\n",
        "test_loader = DataLoader(test_dataset,\n",
        "                          batch_size=64, \n",
        "                          collate_fn=collate_graphs,shuffle=True)"
      ]
    },
    {
      "cell_type": "code",
      "execution_count": 20,
      "metadata": {
        "id": "IwQKyt1Oy9Kc"
      },
      "outputs": [],
      "source": [
        "from itertools import repeat\n",
        "def scatter_add(src, index, dim_size, dim=-1, fill_value=0):\n",
        "    \n",
        "    '''\n",
        "    Sums all values from the src tensor into out at the indices specified in the index \n",
        "    tensor along a given axis dim. \n",
        "    '''\n",
        "    \n",
        "    index_size = list(repeat(1, src.dim()))\n",
        "    index_size[dim] = src.size(dim)\n",
        "    index = index.view(index_size).expand_as(src)\n",
        "    \n",
        "    dim = range(src.dim())[dim]\n",
        "    out_size = list(src.size())\n",
        "    out_size[dim] = dim_size\n",
        "\n",
        "    out = src.new_full(out_size, fill_value)\n",
        "\n",
        "    return out.scatter_add_(dim, index, src)"
      ]
    },
    {
      "cell_type": "code",
      "execution_count": 21,
      "metadata": {
        "id": "MBt9vbUxzGao"
      },
      "outputs": [],
      "source": [
        "from torch import nn\n",
        "from torch.nn import ModuleDict\n",
        "\n",
        "class GNN(torch.nn.Module):\n",
        "    '''\n",
        "        A GNN model \n",
        "    '''\n",
        "    def __init__(self, n_convs=3, n_embed=64):\n",
        "        super(GNN, self).__init__()\n",
        "        \n",
        "        self.atom_embed = nn.Embedding(100, n_embed)\n",
        "        self.convolutions = nn.ModuleList(\n",
        "            [ \n",
        "                ModuleDict({\n",
        "                    'update_mlp': nn.Sequential(nn.Linear(n_embed, n_embed), \n",
        "                                                nn.ReLU(), \n",
        "                                                nn.Linear(n_embed, n_embed)),\n",
        "                    'message_mlp': nn.Sequential(nn.Linear(n_embed, n_embed), \n",
        "                                                 nn.ReLU(), \n",
        "                                                 nn.Linear(n_embed, n_embed)) \n",
        "                })\n",
        "                for _ in range(n_convs)\n",
        "            ]\n",
        "            )\n",
        "        # Declare readout layers\n",
        "        self.readout = nn.Sequential(nn.Linear(n_embed, n_embed), nn.ReLU(), nn.Linear(n_embed, n_embed))\n",
        "        self.final_layer = nn.Sequential(nn.Linear(n_embed, n_embed), nn.ReLU(), nn.Linear(n_embed, 1), nn.Sigmoid())\n",
        "        \n",
        "    def forward(self, AtomicNum, Edge, Natom):\n",
        "        # Parametrize embedding \n",
        "        h = self.atom_embed(AtomicNum) #eqn. 1\n",
        "        for conv in self.convolutions:\n",
        "            msg = conv['message_mlp'](h[Edge[0]] * h[Edge[1]])\n",
        "            dh = conv['update_mlp'](scatter_add(msg, Edge[0], dim=0, dim_size=h.shape[0]))\n",
        "            h = h + dh \n",
        "        \n",
        "        # node wise output \n",
        "        node_out = self.readout(h)\n",
        "        # split nodes back to graphs \n",
        "        node_splits = torch.split(node_out, Natom)\n",
        "        output = torch.stack([i.sum(0) for i in node_splits])\n",
        "        output = self.final_layer(output)\n",
        "        return output"
      ]
    },
    {
      "cell_type": "code",
      "execution_count": 22,
      "metadata": {
        "id": "BQQmOJbR1UVA"
      },
      "outputs": [],
      "source": [
        "# loop() function used to train and evaluate the model\n",
        "loss_fn = nn.BCELoss()\n",
        "def loop(model, loader, epoch, evaluation=False):\n",
        "    \n",
        "    if evaluation:\n",
        "        model.eval()\n",
        "        mode = \"eval\"\n",
        "    else:\n",
        "        model.train()\n",
        "        mode = 'train'\n",
        "    batch_losses = []\n",
        "    \n",
        "    # Define tqdm progress bar \n",
        "    tqdm_data = tqdm(loader, position=0, leave=True, desc='{} (epoch #{})'.format(mode, epoch))\n",
        "    \n",
        "    for data in tqdm_data:\n",
        "        \n",
        "        AtomicNumber, Edge, Natom, y = data \n",
        "        AtomicNumber = AtomicNumber.to(device)\n",
        "        Edge = Edge.to(device)\n",
        "        y = y.to(device)\n",
        "        pred = model(AtomicNumber, Edge, Natom)\n",
        "        loss = loss_fn(pred.squeeze(), y)\n",
        "        \n",
        "        if not evaluation:\n",
        "            optimizer.zero_grad()\n",
        "            loss.backward()\n",
        "            optimizer.step()\n",
        "\n",
        "        batch_losses.append(loss.item())\n",
        "\n",
        "        postfix = ['batch loss={:.3f}'.format(loss.item()) , \n",
        "                   'avg. loss={:.3f}'.format(np.array(batch_losses).mean())]\n",
        "        \n",
        "        tqdm_data.set_postfix_str(' '.join(postfix))\n",
        "    \n",
        "    return np.array(batch_losses).mean()"
      ]
    },
    {
      "attachments": {},
      "cell_type": "markdown",
      "metadata": {},
      "source": [
        "### Train a GNN classifier"
      ]
    },
    {
      "cell_type": "code",
      "execution_count": 23,
      "metadata": {
        "colab": {
          "base_uri": "https://localhost:8080/"
        },
        "id": "7aq9iMLP1WDs",
        "outputId": "bcacaade-276b-4b3f-9bdb-a1c334196634"
      },
      "outputs": [
        {
          "name": "stderr",
          "output_type": "stream",
          "text": [
            "train (epoch #0): 100%|██████████| 17/17 [00:01<00:00, 12.30it/s, batch loss=0.656 avg. loss=0.731]\n",
            "eval (epoch #0): 100%|██████████| 3/3 [00:00<00:00, 87.42it/s, batch loss=0.690 avg. loss=0.731]\n",
            "train (epoch #1): 100%|██████████| 17/17 [00:00<00:00, 78.71it/s, batch loss=0.661 avg. loss=0.700]\n",
            "eval (epoch #1): 100%|██████████| 3/3 [00:00<00:00, 191.24it/s, batch loss=0.682 avg. loss=0.687]\n",
            "train (epoch #2): 100%|██████████| 17/17 [00:00<00:00, 77.60it/s, batch loss=0.665 avg. loss=0.674]\n",
            "eval (epoch #2): 100%|██████████| 3/3 [00:00<00:00, 115.48it/s, batch loss=0.614 avg. loss=0.676]\n",
            "train (epoch #3): 100%|██████████| 17/17 [00:00<00:00, 66.56it/s, batch loss=0.628 avg. loss=0.669]\n",
            "eval (epoch #3): 100%|██████████| 3/3 [00:00<00:00, 224.62it/s, batch loss=0.667 avg. loss=0.664]\n",
            "train (epoch #4): 100%|██████████| 17/17 [00:00<00:00, 78.60it/s, batch loss=0.601 avg. loss=0.663]\n",
            "eval (epoch #4): 100%|██████████| 3/3 [00:00<00:00, 183.82it/s, batch loss=0.738 avg. loss=0.682]\n",
            "train (epoch #5): 100%|██████████| 17/17 [00:00<00:00, 68.36it/s, batch loss=0.705 avg. loss=0.670]\n",
            "eval (epoch #5): 100%|██████████| 3/3 [00:00<00:00, 186.65it/s, batch loss=0.745 avg. loss=0.690]\n",
            "train (epoch #6): 100%|██████████| 17/17 [00:00<00:00, 91.55it/s, batch loss=0.557 avg. loss=0.665]\n",
            "eval (epoch #6): 100%|██████████| 3/3 [00:00<00:00, 234.64it/s, batch loss=0.567 avg. loss=0.642]\n",
            "train (epoch #7): 100%|██████████| 17/17 [00:00<00:00, 81.32it/s, batch loss=0.537 avg. loss=0.653]\n",
            "eval (epoch #7): 100%|██████████| 3/3 [00:00<00:00, 112.82it/s, batch loss=0.682 avg. loss=0.673]\n",
            "train (epoch #8): 100%|██████████| 17/17 [00:00<00:00, 69.61it/s, batch loss=0.692 avg. loss=0.660]\n",
            "eval (epoch #8): 100%|██████████| 3/3 [00:00<00:00, 161.90it/s, batch loss=0.688 avg. loss=0.685]\n",
            "train (epoch #9): 100%|██████████| 17/17 [00:00<00:00, 61.25it/s, batch loss=0.541 avg. loss=0.642]\n",
            "eval (epoch #9): 100%|██████████| 3/3 [00:00<00:00, 109.80it/s, batch loss=0.701 avg. loss=0.662]\n",
            "train (epoch #10): 100%|██████████| 17/17 [00:00<00:00, 76.43it/s, batch loss=0.552 avg. loss=0.639]\n",
            "eval (epoch #10): 100%|██████████| 3/3 [00:00<00:00, 204.35it/s, batch loss=0.577 avg. loss=0.627]\n",
            "train (epoch #11): 100%|██████████| 17/17 [00:00<00:00, 84.04it/s, batch loss=0.660 avg. loss=0.639]\n",
            "eval (epoch #11): 100%|██████████| 3/3 [00:00<00:00, 191.81it/s, batch loss=0.619 avg. loss=0.641]\n",
            "train (epoch #12): 100%|██████████| 17/17 [00:00<00:00, 67.10it/s, batch loss=0.593 avg. loss=0.630]\n",
            "eval (epoch #12): 100%|██████████| 3/3 [00:00<00:00, 213.17it/s, batch loss=0.665 avg. loss=0.649]\n",
            "train (epoch #13): 100%|██████████| 17/17 [00:00<00:00, 90.31it/s, batch loss=0.693 avg. loss=0.634]\n",
            "eval (epoch #13): 100%|██████████| 3/3 [00:00<00:00, 176.14it/s, batch loss=0.659 avg. loss=0.654]\n",
            "train (epoch #14): 100%|██████████| 17/17 [00:00<00:00, 71.47it/s, batch loss=0.594 avg. loss=0.620]\n",
            "eval (epoch #14): 100%|██████████| 3/3 [00:00<00:00, 221.13it/s, batch loss=0.567 avg. loss=0.613]\n",
            "train (epoch #15): 100%|██████████| 17/17 [00:00<00:00, 75.46it/s, batch loss=0.633 avg. loss=0.639]\n",
            "eval (epoch #15): 100%|██████████| 3/3 [00:00<00:00, 152.60it/s, batch loss=0.715 avg. loss=0.638]\n",
            "train (epoch #16): 100%|██████████| 17/17 [00:00<00:00, 68.16it/s, batch loss=0.751 avg. loss=0.606]\n",
            "eval (epoch #16): 100%|██████████| 3/3 [00:00<00:00, 209.64it/s, batch loss=0.608 avg. loss=0.621]\n",
            "train (epoch #17): 100%|██████████| 17/17 [00:00<00:00, 81.68it/s, batch loss=0.545 avg. loss=0.596]\n",
            "eval (epoch #17): 100%|██████████| 3/3 [00:00<00:00, 180.78it/s, batch loss=0.691 avg. loss=0.632]\n",
            "train (epoch #18): 100%|██████████| 17/17 [00:00<00:00, 78.31it/s, batch loss=0.718 avg. loss=0.590]\n",
            "eval (epoch #18): 100%|██████████| 3/3 [00:00<00:00, 98.14it/s, batch loss=0.754 avg. loss=0.624]\n",
            "train (epoch #19): 100%|██████████| 17/17 [00:00<00:00, 58.64it/s, batch loss=0.659 avg. loss=0.580]\n",
            "eval (epoch #19): 100%|██████████| 3/3 [00:00<00:00, 99.81it/s, batch loss=0.440 avg. loss=0.551]\n",
            "train (epoch #20): 100%|██████████| 17/17 [00:00<00:00, 85.61it/s, batch loss=0.621 avg. loss=0.578]\n",
            "eval (epoch #20): 100%|██████████| 3/3 [00:00<00:00, 188.07it/s, batch loss=0.637 avg. loss=0.590]\n",
            "train (epoch #21): 100%|██████████| 17/17 [00:00<00:00, 80.09it/s, batch loss=0.492 avg. loss=0.556]\n",
            "eval (epoch #21): 100%|██████████| 3/3 [00:00<00:00, 192.76it/s, batch loss=0.633 avg. loss=0.593]\n",
            "train (epoch #22): 100%|██████████| 17/17 [00:00<00:00, 59.99it/s, batch loss=0.632 avg. loss=0.554]\n",
            "eval (epoch #22): 100%|██████████| 3/3 [00:00<00:00, 108.99it/s, batch loss=0.776 avg. loss=0.626]\n",
            "train (epoch #23): 100%|██████████| 17/17 [00:00<00:00, 67.26it/s, batch loss=0.491 avg. loss=0.545]\n",
            "eval (epoch #23): 100%|██████████| 3/3 [00:00<00:00, 165.52it/s, batch loss=0.490 avg. loss=0.562]\n",
            "train (epoch #24): 100%|██████████| 17/17 [00:00<00:00, 83.08it/s, batch loss=0.582 avg. loss=0.537]\n",
            "eval (epoch #24): 100%|██████████| 3/3 [00:00<00:00, 200.75it/s, batch loss=0.454 avg. loss=0.583]\n",
            "train (epoch #25): 100%|██████████| 17/17 [00:00<00:00, 57.67it/s, batch loss=0.423 avg. loss=0.531]\n",
            "eval (epoch #25): 100%|██████████| 3/3 [00:00<00:00, 152.52it/s, batch loss=0.543 avg. loss=0.568]\n",
            "train (epoch #26): 100%|██████████| 17/17 [00:00<00:00, 73.25it/s, batch loss=0.454 avg. loss=0.513]\n",
            "eval (epoch #26): 100%|██████████| 3/3 [00:00<00:00, 193.63it/s, batch loss=0.700 avg. loss=0.601]\n",
            "train (epoch #27): 100%|██████████| 17/17 [00:00<00:00, 76.26it/s, batch loss=0.486 avg. loss=0.529]\n",
            "eval (epoch #27): 100%|██████████| 3/3 [00:00<00:00, 57.58it/s, batch loss=0.568 avg. loss=0.563]\n",
            "train (epoch #28): 100%|██████████| 17/17 [00:00<00:00, 61.63it/s, batch loss=0.344 avg. loss=0.520]\n",
            "eval (epoch #28): 100%|██████████| 3/3 [00:00<00:00, 198.42it/s, batch loss=0.503 avg. loss=0.547]\n",
            "train (epoch #29): 100%|██████████| 17/17 [00:00<00:00, 80.95it/s, batch loss=0.546 avg. loss=0.531]\n",
            "eval (epoch #29): 100%|██████████| 3/3 [00:00<00:00, 182.53it/s, batch loss=0.490 avg. loss=0.547]\n",
            "train (epoch #30): 100%|██████████| 17/17 [00:00<00:00, 62.68it/s, batch loss=0.436 avg. loss=0.528]\n",
            "eval (epoch #30): 100%|██████████| 3/3 [00:00<00:00, 104.19it/s, batch loss=0.463 avg. loss=0.546]\n",
            "train (epoch #31): 100%|██████████| 17/17 [00:00<00:00, 79.73it/s, batch loss=0.526 avg. loss=0.525]\n",
            "eval (epoch #31): 100%|██████████| 3/3 [00:00<00:00, 154.74it/s, batch loss=0.744 avg. loss=0.617]\n",
            "train (epoch #32): 100%|██████████| 17/17 [00:00<00:00, 69.78it/s, batch loss=0.401 avg. loss=0.526]\n",
            "eval (epoch #32): 100%|██████████| 3/3 [00:00<00:00, 122.37it/s, batch loss=0.480 avg. loss=0.542]\n",
            "train (epoch #33): 100%|██████████| 17/17 [00:00<00:00, 58.06it/s, batch loss=0.493 avg. loss=0.500]\n",
            "eval (epoch #33): 100%|██████████| 3/3 [00:00<00:00, 102.29it/s, batch loss=0.514 avg. loss=0.536]\n",
            "train (epoch #34): 100%|██████████| 17/17 [00:00<00:00, 75.12it/s, batch loss=0.339 avg. loss=0.491]\n",
            "eval (epoch #34): 100%|██████████| 3/3 [00:00<00:00, 189.05it/s, batch loss=0.469 avg. loss=0.533]\n",
            "train (epoch #35): 100%|██████████| 17/17 [00:00<00:00, 72.36it/s, batch loss=0.650 avg. loss=0.544]\n",
            "eval (epoch #35): 100%|██████████| 3/3 [00:00<00:00, 192.41it/s, batch loss=0.525 avg. loss=0.534]\n",
            "train (epoch #36): 100%|██████████| 17/17 [00:00<00:00, 69.98it/s, batch loss=0.470 avg. loss=0.512]\n",
            "eval (epoch #36): 100%|██████████| 3/3 [00:00<00:00, 217.72it/s, batch loss=0.588 avg. loss=0.550]\n",
            "train (epoch #37): 100%|██████████| 17/17 [00:00<00:00, 65.25it/s, batch loss=0.624 avg. loss=0.513]\n",
            "eval (epoch #37): 100%|██████████| 3/3 [00:00<00:00, 137.73it/s, batch loss=0.520 avg. loss=0.553]\n",
            "train (epoch #38): 100%|██████████| 17/17 [00:00<00:00, 59.69it/s, batch loss=0.516 avg. loss=0.509]\n",
            "eval (epoch #38): 100%|██████████| 3/3 [00:00<00:00, 154.11it/s, batch loss=0.464 avg. loss=0.524]\n",
            "train (epoch #39): 100%|██████████| 17/17 [00:00<00:00, 70.91it/s, batch loss=0.579 avg. loss=0.498]\n",
            "eval (epoch #39): 100%|██████████| 3/3 [00:00<00:00, 163.07it/s, batch loss=0.634 avg. loss=0.563]\n",
            "train (epoch #40): 100%|██████████| 17/17 [00:00<00:00, 71.10it/s, batch loss=0.690 avg. loss=0.504]\n",
            "eval (epoch #40): 100%|██████████| 3/3 [00:00<00:00, 177.08it/s, batch loss=0.733 avg. loss=0.596]\n",
            "train (epoch #41): 100%|██████████| 17/17 [00:00<00:00, 74.92it/s, batch loss=0.349 avg. loss=0.483]\n",
            "eval (epoch #41): 100%|██████████| 3/3 [00:00<00:00, 118.72it/s, batch loss=0.854 avg. loss=0.620]\n",
            "train (epoch #42): 100%|██████████| 17/17 [00:00<00:00, 69.19it/s, batch loss=0.423 avg. loss=0.480]\n",
            "eval (epoch #42): 100%|██████████| 3/3 [00:00<00:00, 235.52it/s, batch loss=0.451 avg. loss=0.512]\n",
            "train (epoch #43): 100%|██████████| 17/17 [00:00<00:00, 84.72it/s, batch loss=0.353 avg. loss=0.486]\n",
            "eval (epoch #43): 100%|██████████| 3/3 [00:00<00:00, 190.24it/s, batch loss=0.610 avg. loss=0.561]\n",
            "train (epoch #44): 100%|██████████| 17/17 [00:00<00:00, 72.92it/s, batch loss=0.506 avg. loss=0.477]\n",
            "eval (epoch #44): 100%|██████████| 3/3 [00:00<00:00, 193.88it/s, batch loss=0.638 avg. loss=0.561]\n",
            "train (epoch #45): 100%|██████████| 17/17 [00:00<00:00, 61.20it/s, batch loss=0.354 avg. loss=0.472]\n",
            "eval (epoch #45): 100%|██████████| 3/3 [00:00<00:00, 106.12it/s, batch loss=0.553 avg. loss=0.533]\n",
            "train (epoch #46): 100%|██████████| 17/17 [00:00<00:00, 70.33it/s, batch loss=0.522 avg. loss=0.457]\n",
            "eval (epoch #46): 100%|██████████| 3/3 [00:00<00:00, 171.21it/s, batch loss=0.314 avg. loss=0.479]\n",
            "train (epoch #47): 100%|██████████| 17/17 [00:00<00:00, 72.63it/s, batch loss=0.582 avg. loss=0.472]\n",
            "eval (epoch #47): 100%|██████████| 3/3 [00:00<00:00, 227.91it/s, batch loss=0.840 avg. loss=0.590]\n",
            "train (epoch #48): 100%|██████████| 17/17 [00:00<00:00, 69.64it/s, batch loss=0.590 avg. loss=0.482]\n",
            "eval (epoch #48): 100%|██████████| 3/3 [00:00<00:00, 107.76it/s, batch loss=0.413 avg. loss=0.523]\n",
            "train (epoch #49): 100%|██████████| 17/17 [00:00<00:00, 69.60it/s, batch loss=0.584 avg. loss=0.483]\n",
            "eval (epoch #49): 100%|██████████| 3/3 [00:00<00:00, 175.55it/s, batch loss=0.907 avg. loss=0.639]\n",
            "train (epoch #50): 100%|██████████| 17/17 [00:00<00:00, 69.90it/s, batch loss=0.375 avg. loss=0.483]\n",
            "eval (epoch #50): 100%|██████████| 3/3 [00:00<00:00, 109.34it/s, batch loss=0.551 avg. loss=0.538]\n",
            "train (epoch #51): 100%|██████████| 17/17 [00:00<00:00, 65.89it/s, batch loss=0.460 avg. loss=0.459]\n",
            "eval (epoch #51): 100%|██████████| 3/3 [00:00<00:00, 174.29it/s, batch loss=0.371 avg. loss=0.479]\n",
            "train (epoch #52): 100%|██████████| 17/17 [00:00<00:00, 74.16it/s, batch loss=0.664 avg. loss=0.474]\n",
            "eval (epoch #52): 100%|██████████| 3/3 [00:00<00:00, 181.63it/s, batch loss=0.806 avg. loss=0.633]\n",
            "train (epoch #53): 100%|██████████| 17/17 [00:00<00:00, 69.13it/s, batch loss=0.702 avg. loss=0.494]\n",
            "eval (epoch #53): 100%|██████████| 3/3 [00:00<00:00, 90.91it/s, batch loss=0.498 avg. loss=0.511]\n",
            "train (epoch #54): 100%|██████████| 17/17 [00:00<00:00, 56.76it/s, batch loss=0.729 avg. loss=0.487]\n",
            "eval (epoch #54): 100%|██████████| 3/3 [00:00<00:00, 176.81it/s, batch loss=0.925 avg. loss=0.655]\n",
            "train (epoch #55): 100%|██████████| 17/17 [00:00<00:00, 75.94it/s, batch loss=0.243 avg. loss=0.478]\n",
            "eval (epoch #55): 100%|██████████| 3/3 [00:00<00:00, 178.62it/s, batch loss=0.516 avg. loss=0.530]\n",
            "train (epoch #56): 100%|██████████| 17/17 [00:00<00:00, 66.74it/s, batch loss=0.180 avg. loss=0.441]\n",
            "eval (epoch #56): 100%|██████████| 3/3 [00:00<00:00, 82.84it/s, batch loss=0.607 avg. loss=0.552]\n",
            "train (epoch #57): 100%|██████████| 17/17 [00:00<00:00, 67.29it/s, batch loss=0.448 avg. loss=0.433]\n",
            "eval (epoch #57): 100%|██████████| 3/3 [00:00<00:00, 170.22it/s, batch loss=0.359 avg. loss=0.483]\n",
            "train (epoch #58): 100%|██████████| 17/17 [00:00<00:00, 78.02it/s, batch loss=0.366 avg. loss=0.438]\n",
            "eval (epoch #58): 100%|██████████| 3/3 [00:00<00:00, 167.98it/s, batch loss=0.480 avg. loss=0.525]\n",
            "train (epoch #59): 100%|██████████| 17/17 [00:00<00:00, 68.91it/s, batch loss=0.270 avg. loss=0.421]\n",
            "eval (epoch #59): 100%|██████████| 3/3 [00:00<00:00, 115.57it/s, batch loss=0.563 avg. loss=0.588]\n",
            "train (epoch #60): 100%|██████████| 17/17 [00:00<00:00, 59.49it/s, batch loss=0.867 avg. loss=0.452]\n",
            "eval (epoch #60): 100%|██████████| 3/3 [00:00<00:00, 163.45it/s, batch loss=0.419 avg. loss=0.510]\n",
            "train (epoch #61): 100%|██████████| 17/17 [00:00<00:00, 69.12it/s, batch loss=0.526 avg. loss=0.456]\n",
            "eval (epoch #61): 100%|██████████| 3/3 [00:00<00:00, 160.33it/s, batch loss=0.474 avg. loss=0.519]\n",
            "train (epoch #62): 100%|██████████| 17/17 [00:00<00:00, 62.26it/s, batch loss=0.339 avg. loss=0.427]\n",
            "eval (epoch #62): 100%|██████████| 3/3 [00:00<00:00, 177.94it/s, batch loss=0.568 avg. loss=0.509]\n",
            "train (epoch #63): 100%|██████████| 17/17 [00:00<00:00, 75.55it/s, batch loss=0.489 avg. loss=0.422]\n",
            "eval (epoch #63): 100%|██████████| 3/3 [00:00<00:00, 179.31it/s, batch loss=0.595 avg. loss=0.527]\n",
            "train (epoch #64): 100%|██████████| 17/17 [00:00<00:00, 71.59it/s, batch loss=0.343 avg. loss=0.408]\n",
            "eval (epoch #64): 100%|██████████| 3/3 [00:00<00:00, 195.22it/s, batch loss=0.675 avg. loss=0.564]\n",
            "train (epoch #65): 100%|██████████| 17/17 [00:00<00:00, 66.72it/s, batch loss=0.487 avg. loss=0.434]\n",
            "eval (epoch #65): 100%|██████████| 3/3 [00:00<00:00, 90.78it/s, batch loss=0.599 avg. loss=0.523]\n",
            "train (epoch #66): 100%|██████████| 17/17 [00:00<00:00, 74.23it/s, batch loss=0.686 avg. loss=0.428]\n",
            "eval (epoch #66): 100%|██████████| 3/3 [00:00<00:00, 172.47it/s, batch loss=0.557 avg. loss=0.519]\n",
            "train (epoch #67): 100%|██████████| 17/17 [00:00<00:00, 60.12it/s, batch loss=0.512 avg. loss=0.431]\n",
            "eval (epoch #67): 100%|██████████| 3/3 [00:00<00:00, 161.67it/s, batch loss=0.486 avg. loss=0.499]\n",
            "train (epoch #68): 100%|██████████| 17/17 [00:00<00:00, 68.83it/s, batch loss=0.294 avg. loss=0.418]\n",
            "eval (epoch #68): 100%|██████████| 3/3 [00:00<00:00, 171.19it/s, batch loss=0.652 avg. loss=0.565]\n",
            "train (epoch #69): 100%|██████████| 17/17 [00:00<00:00, 73.55it/s, batch loss=0.320 avg. loss=0.416]\n",
            "eval (epoch #69): 100%|██████████| 3/3 [00:00<00:00, 165.69it/s, batch loss=0.926 avg. loss=0.601]\n",
            "train (epoch #70): 100%|██████████| 17/17 [00:00<00:00, 61.63it/s, batch loss=0.251 avg. loss=0.395]\n",
            "eval (epoch #70): 100%|██████████| 3/3 [00:00<00:00, 115.41it/s, batch loss=0.366 avg. loss=0.466]\n",
            "train (epoch #71): 100%|██████████| 17/17 [00:00<00:00, 70.83it/s, batch loss=0.464 avg. loss=0.402]\n",
            "eval (epoch #71): 100%|██████████| 3/3 [00:00<00:00, 129.88it/s, batch loss=0.691 avg. loss=0.592]\n",
            "train (epoch #72): 100%|██████████| 17/17 [00:00<00:00, 76.97it/s, batch loss=0.547 avg. loss=0.396]\n",
            "eval (epoch #72): 100%|██████████| 3/3 [00:00<00:00, 189.34it/s, batch loss=0.270 avg. loss=0.461]\n",
            "train (epoch #73): 100%|██████████| 17/17 [00:00<00:00, 69.59it/s, batch loss=0.600 avg. loss=0.408]\n",
            "eval (epoch #73): 100%|██████████| 3/3 [00:00<00:00, 105.75it/s, batch loss=0.505 avg. loss=0.504]\n",
            "train (epoch #74): 100%|██████████| 17/17 [00:00<00:00, 66.92it/s, batch loss=0.415 avg. loss=0.421]\n",
            "eval (epoch #74): 100%|██████████| 3/3 [00:00<00:00, 179.99it/s, batch loss=0.518 avg. loss=0.494]\n",
            "train (epoch #75): 100%|██████████| 17/17 [00:00<00:00, 77.24it/s, batch loss=0.620 avg. loss=0.402]\n",
            "eval (epoch #75): 100%|██████████| 3/3 [00:00<00:00, 173.42it/s, batch loss=0.575 avg. loss=0.525]\n",
            "train (epoch #76): 100%|██████████| 17/17 [00:00<00:00, 57.13it/s, batch loss=0.152 avg. loss=0.381]\n",
            "eval (epoch #76): 100%|██████████| 3/3 [00:00<00:00, 141.67it/s, batch loss=0.296 avg. loss=0.497]\n",
            "train (epoch #77): 100%|██████████| 17/17 [00:00<00:00, 69.10it/s, batch loss=0.376 avg. loss=0.388]\n",
            "eval (epoch #77): 100%|██████████| 3/3 [00:00<00:00, 193.26it/s, batch loss=0.682 avg. loss=0.551]\n",
            "train (epoch #78): 100%|██████████| 17/17 [00:00<00:00, 80.21it/s, batch loss=0.192 avg. loss=0.370]\n",
            "eval (epoch #78): 100%|██████████| 3/3 [00:00<00:00, 106.07it/s, batch loss=0.714 avg. loss=0.640]\n",
            "train (epoch #79): 100%|██████████| 17/17 [00:00<00:00, 73.24it/s, batch loss=0.497 avg. loss=0.409]\n",
            "eval (epoch #79): 100%|██████████| 3/3 [00:00<00:00, 106.87it/s, batch loss=0.645 avg. loss=0.521]\n"
          ]
        }
      ],
      "source": [
        "from torch import optim\n",
        "device = 'cuda:0'\n",
        "model = GNN(n_convs=3, n_embed=64).to(device)\n",
        "optimizer = optim.Adam(model.parameters(), lr=1e-3)\n",
        "scheduler = optim.lr_scheduler.ReduceLROnPlateau(optimizer, 'min', factor=0.5, patience=50, verbose=True)\n",
        "\n",
        "for epoch in range(80):    \n",
        "    train_loss = loop(model, train_loader, epoch)\n",
        "    val_loss = loop(model, val_loader, epoch, evaluation=True)"
      ]
    },
    {
      "cell_type": "markdown",
      "metadata": {
        "id": "qgGZcNIaYGkj"
      },
      "source": [
        "Evaluate the model performance. "
      ]
    },
    {
      "cell_type": "code",
      "execution_count": 25,
      "metadata": {
        "id": "1HmXQAt513tB"
      },
      "outputs": [],
      "source": [
        "y_pred = []\n",
        "y_true = []\n",
        "\n",
        "for i, data in enumerate(test_loader, 0):\n",
        "    AtomicNumber, Edge, Natom, y = data \n",
        "    AtomicNumber = AtomicNumber.to(device)\n",
        "    Edge = Edge.to(device)\n",
        "    y = y.to(device)\n",
        "    pred = model(AtomicNumber, Edge, Natom)\n",
        "    y_true += y.squeeze().tolist()\n",
        "    \n",
        "    pred = (pred.squeeze()>0.5).tolist()\n",
        "    y_pred += pred"
      ]
    },
    {
      "cell_type": "code",
      "execution_count": 26,
      "metadata": {
        "colab": {
          "base_uri": "https://localhost:8080/",
          "height": 430
        },
        "id": "tPuOGAfl3kNT",
        "outputId": "c07c1d31-0948-4aa9-d0fe-cd3240a717e5"
      },
      "outputs": [
        {
          "data": {
            "image/png": "[encoded data removed]",
            "text/plain": [
              "<Figure size 640x480 with 1 Axes>"
            ]
          },
          "metadata": {},
          "output_type": "display_data"
        }
      ],
      "source": [
        "from sklearn.metrics import confusion_matrix\n",
        "conf_mat = confusion_matrix(y_true, y_pred)\n",
        "\n",
        "fig, ax = plt.subplots()\n",
        "im = ax.imshow(conf_mat)\n",
        "\n",
        "ax.set_xticks(np.arange(2))\n",
        "ax.set_yticks(np.arange(2))\n",
        "\n",
        "ax.set_xticklabels([0, 1])\n",
        "ax.set_yticklabels([0, 1])\n",
        "\n",
        "# Loop over data dimensions and create text annotations.\n",
        "for i in range(2):\n",
        "    for j in range(2):\n",
        "        text = ax.text(j, i, conf_mat[i, j],\n",
        "                       ha=\"center\", va=\"center\", color=\"w\")\n",
        "\n",
        "plt.show()"
      ]
    },
    {
      "cell_type": "code",
      "execution_count": 27,
      "metadata": {
        "colab": {
          "base_uri": "https://localhost:8080/"
        },
        "id": "f1XOuget7At9",
        "outputId": "6065eac7-be49-4ca8-87db-f5dfa46254b7"
      },
      "outputs": [
        {
          "name": "stdout",
          "output_type": "stream",
          "text": [
            "accuracy 0.7710437710437711\n"
          ]
        }
      ],
      "source": [
        "print(\"accuracy\", (np.array(y_pred)==np.array(y_true)).sum()/len(y_pred))"
      ]
    },
    {
      "attachments": {},
      "cell_type": "markdown",
      "metadata": {
        "id": "0flw6zO7Ymov"
      },
      "source": [
        "## 2. Implement a custom counterfactual generator"
      ]
    },
    {
      "attachments": {},
      "cell_type": "markdown",
      "metadata": {},
      "source": [
        "In this project, we aim to develop a simple counterfactual generator for Graph Neural Networks (GNNs). Given a molecule and its true or predicted label, our objective is to generate a molecule that closely resembles the original molecule but has the opposite label.\n",
        "\n",
        "To achieve this, we propose a method where we iteratively flip the atomic number of a randomly selected atom in the molecule and evaluate the model's prediction. If the model predicts the counterfactual label, we add the candidate molecule to a list of potential counterfactuals.\n",
        "\n",
        "Once we have a list of potential counterfactuals, we transform the changed graphs into molecular objects and use the RDKit library to visualize the flipped atom. The resulting molecule with the highlighted flipped atom can then be analyzed by domain experts to assess its chemical plausibility and interpretability."
      ]
    },
    {
      "cell_type": "code",
      "execution_count": 28,
      "metadata": {},
      "outputs": [],
      "source": [
        "from rdkit import Chem\n",
        "\n",
        "# we will use graph_to_mol() function to convert graph to molecule\n",
        "atom_dict = {  6: 'C', 7: 'N', 8: 'O', 9: 'F', \n",
        "               15: 'P', 16: 'S', 17: 'Cl', \n",
        "               35: 'Br', 53: 'I',}\n",
        "\n",
        "def graph_to_mol(x, Edge):\n",
        "  \"\"\"\n",
        "  x: Atomic Number\n",
        "  Edge: Edge List\n",
        "  \"\"\"\n",
        "  atom_one_hot = x.detach().cpu().numpy()\n",
        "\n",
        "  mol = Chem.RWMol() # generate empty mol object\n",
        "  for i, atom_num in enumerate(atom_one_hot):\n",
        "      atom_symbol = atom_dict[atom_num] # get atom symbol from atomic number\n",
        "      atom = Chem.Atom(atom_symbol) # create atom object\n",
        "      mol.AddAtom(atom) # add atom to mol object\n",
        "\n",
        "  edge_list = Edge.detach().cpu().numpy().transpose(1,0) # get edge list from the original molecule\n",
        "  for edge in edge_list:\n",
        "    i, j = edge\n",
        "    if i < j:\n",
        "      mol.AddBond(int(i), int(j), Chem.rdchem.BondType.UNSPECIFIED) # add bond to mol object\n",
        "  return Chem.RemoveHs(mol)"
      ]
    },
    {
      "cell_type": "code",
      "execution_count": 29,
      "metadata": {
        "id": "DKL05n_1JlSl"
      },
      "outputs": [],
      "source": [
        "atom_list = torch.LongTensor([6, 7, 8, 9, 15, 16, 17, 35, 53])\n",
        "\n",
        "def generate_candidates(x, A, Natom, y, model, num_candidates=10):\n",
        "    \"\"\"Generates candidate molecules with flipped atomic numbers.\"\"\"\n",
        "    candidates = [] # list of tuples (mol, prob), where mol is a counterfactual molecule \n",
        "                    # and prob is the probability of the counterfactual molecule being an active molecule\n",
        "    \n",
        "    x, A, y = x.to(device), A.to(device), y.to(device) # original molecule\n",
        "    target_y = 1-y # counterfactual label\n",
        "\n",
        "    for i in range(num_candidates):\n",
        "        # Generate a random candidate molecule by flipping an atom\n",
        "        x_ = x.clone()\n",
        "        atom_idx = torch.randint(len(x), (1,)) # index of the atom to be flipped\n",
        "        new_atom = torch.randint(1, 9, (1,)) # new atomic number\n",
        "        x_[atom_idx] = atom_list[new_atom] # flip the atom\n",
        "\n",
        "        # Evaluate the candidate molecule using the GNN model\n",
        "        with torch.no_grad():\n",
        "            prob = model(x_, A, Natom)[0] # probability of the candidate molecule being an active molecule\n",
        "        \n",
        "        # If the candidate molecule has the counterfactual label, add it to the list of candidates\n",
        "        if (prob.item() > 0.5) == target_y.item(): \n",
        "            mol = graph_to_mol(x_, A) \n",
        "            candidates.append((mol, prob.item(), atom_idx))\n",
        "        \n",
        "    # Return the candidate molecules with the highest predicted probability of having the counterfactual label\n",
        "    return sorted(candidates, key=lambda x: x[1]*(target_y.item()-0.5), reverse=True)"
      ]
    },
    {
      "cell_type": "code",
      "execution_count": 31,
      "metadata": {
        "id": "JLgyC7S59aMU"
      },
      "outputs": [],
      "source": [
        "import random\n",
        "# randomly select a molecule from the test set\n",
        "AtomicNumber, Edge, Natom, y = test_loader.dataset.__getitem__(random.choices(range(len(test_loader.dataset)), k=1)[0])"
      ]
    },
    {
      "cell_type": "code",
      "execution_count": 34,
      "metadata": {},
      "outputs": [
        {
          "name": "stdout",
          "output_type": "stream",
          "text": [
            "1.0\n"
          ]
        }
      ],
      "source": [
        "print(y.item()) # label of the original molecule"
      ]
    },
    {
      "cell_type": "code",
      "execution_count": 32,
      "metadata": {
        "id": "asJzmR7zLQ1U"
      },
      "outputs": [],
      "source": [
        "# generate counterfactual molecules\n",
        "candidates = generate_candidates(AtomicNumber, Edge, Natom, y, model, num_candidates=20)"
      ]
    },
    {
      "cell_type": "code",
      "execution_count": 35,
      "metadata": {
        "colab": {
          "base_uri": "https://localhost:8080/"
        },
        "id": "2kratW0kNzJe",
        "outputId": "c631bf92-a788-4028-fd3e-3b9e906f3ee3"
      },
      "outputs": [
        {
          "data": {
            "text/plain": [
              "[(<rdkit.Chem.rdchem.Mol at 0x7f8c4166d430>,\n",
              "  0.00022889352112542838,\n",
              "  tensor([17])),\n",
              " (<rdkit.Chem.rdchem.Mol at 0x7f8c41600580>,\n",
              "  0.002324539003893733,\n",
              "  tensor([13])),\n",
              " (<rdkit.Chem.rdchem.Mol at 0x7f8c41600120>,\n",
              "  0.04616380110383034,\n",
              "  tensor([24])),\n",
              " (<rdkit.Chem.rdchem.Mol at 0x7f8c4166d4a0>,\n",
              "  0.09230900555849075,\n",
              "  tensor([18])),\n",
              " (<rdkit.Chem.rdchem.Mol at 0x7f8c4166dac0>, 0.10565964877605438, tensor([4]))]"
            ]
          },
          "execution_count": 35,
          "metadata": {},
          "output_type": "execute_result"
        }
      ],
      "source": [
        "candidates[:5] \n",
        "# print the top 5 candidates.\n",
        "# Each candidate is a tuple (mol, prob, atom_idx), where mol is a counterfactual molecule,\n",
        "# prob is the probability of the counterfactual molecule being an active molecule,\n",
        "# and atom_idx is the index of the atom that was flipped to generate the counterfactual molecule.\n",
        "# The top 5 candidates have the highest probability of being inactive molecules,\n",
        "# as the original molecule is an active molecule."
      ]
    },
    {
      "cell_type": "code",
      "execution_count": 38,
      "metadata": {},
      "outputs": [
        {
          "data": {
            "image/png": "[encoded data removed]",
            "text/plain": [
              "<PIL.PngImagePlugin.PngImageFile image mode=RGB size=300x300>"
            ]
          },
          "execution_count": 38,
          "metadata": {},
          "output_type": "execute_result"
        }
      ],
      "source": [
        "# generate an image of the original molecule\n",
        "# bond orders are not specified in this image\n",
        "# hydrogen atoms should be neglected when interpreting the image\n",
        "# the atom with the flipped atomic number is highlighted in red\n",
        "mol = graph_to_mol(AtomicNumber, Edge)\n",
        "img = Draw.MolToImage(mol, removeHs=True, highlightAtoms=[candidates[0][-1].item()])\n",
        "img"
      ]
    },
    {
      "cell_type": "code",
      "execution_count": 37,
      "metadata": {
        "colab": {
          "base_uri": "https://localhost:8080/",
          "height": 317
        },
        "id": "Zt_mdf4LUXfo",
        "outputId": "66c3047f-1bea-4d87-b178-39cb0d4258c1"
      },
      "outputs": [
        {
          "data": {
            "image/png": "[encoded data removed]",
            "text/plain": [
              "<PIL.PngImagePlugin.PngImageFile image mode=RGB size=300x300>"
            ]
          },
          "execution_count": 37,
          "metadata": {},
          "output_type": "execute_result"
        }
      ],
      "source": [
        "# generate an image of the top 1 candidate molecule\n",
        "# bond orders are not specified in this image\n",
        "# hydrogen atoms should be neglected when interpreting the image\n",
        "# the atom that was flipped is highlighted in red\n",
        "img = Draw.MolToImage(candidates[0][0], removeHs=True, highlightAtoms=[candidates[0][-1].item()])\n",
        "img"
      ]
    }
  ],
  "metadata": {
    "accelerator": "GPU",
    "colab": {
      "gpuType": "T4",
      "machine_shape": "hm",
      "provenance": []
    },
    "gpuClass": "standard",
    "kernelspec": {
      "display_name": "Python 3",
      "name": "python3"
    },
    "language_info": {
      "codemirror_mode": {
        "name": "ipython",
        "version": 3
      },
      "file_extension": ".py",
      "mimetype": "text/x-python",
      "name": "python",
      "nbconvert_exporter": "python",
      "pygments_lexer": "ipython3",
      "version": "3.8.13"
    }
  },
  "nbformat": 4,
  "nbformat_minor": 0
}
